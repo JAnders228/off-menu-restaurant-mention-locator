{
 "cells": [
  {
   "cell_type": "markdown",
   "id": "2630b2d9",
   "metadata": {},
   "source": [
    "# Off menu transcripts extraction \n",
    "\n",
    "This notebook serves as a development environment for the logic to scrape and save episode transcripts html. The final production code is located in off_menu/data_extraction.py."
   ]
  },
  {
   "cell_type": "code",
   "execution_count": null,
   "id": "f0344969",
   "metadata": {},
   "outputs": [
    {
     "name": "stdout",
     "output_type": "stream",
     "text": [
      "Project root added to sys.path: c:\\Users\\jbara\\Data science projects (store here not desktop on onedrive)\\Off Menu project\n",
      "Current sys.path: ['c:\\\\Users\\\\jbara\\\\Data science projects (store here not desktop on onedrive)\\\\Off Menu project', 'C:\\\\Users\\\\jbara\\\\miniconda3\\\\python312.zip', 'C:\\\\Users\\\\jbara\\\\miniconda3\\\\DLLs', 'C:\\\\Users\\\\jbara\\\\miniconda3\\\\Lib', 'C:\\\\Users\\\\jbara\\\\miniconda3', 'c:\\\\Users\\\\jbara\\\\OneDrive\\\\Desktop\\\\Data_science\\\\Python projects\\\\Off Menu project\\\\.venv', '', 'c:\\\\Users\\\\jbara\\\\OneDrive\\\\Desktop\\\\Data_science\\\\Python projects\\\\Off Menu project\\\\.venv\\\\Lib\\\\site-packages', 'c:\\\\Users\\\\jbara\\\\OneDrive\\\\Desktop\\\\Data_science\\\\Python projects\\\\Off Menu project\\\\.venv\\\\Lib\\\\site-packages\\\\win32', 'c:\\\\Users\\\\jbara\\\\OneDrive\\\\Desktop\\\\Data_science\\\\Python projects\\\\Off Menu project\\\\.venv\\\\Lib\\\\site-packages\\\\win32\\\\lib', 'c:\\\\Users\\\\jbara\\\\OneDrive\\\\Desktop\\\\Data_science\\\\Python projects\\\\Off Menu project\\\\.venv\\\\Lib\\\\site-packages\\\\Pythonwin']\n"
     ]
    }
   ],
   "source": [
    "# Ensure imports can find my utils:\n",
    "\n",
    "import sys\n",
    "import os\n",
    "\n",
    "notebook_dir = os.getcwd()\n",
    "project_root = os.path.abspath(os.path.join(notebook_dir, '..', '..'))\n",
    "\n",
    "if project_root not in sys.path:\n",
    "    sys.path.insert(0, project_root)\n",
    "\n",
    "print(f\"Project root added to sys.path: {project_root}\")\n",
    "print(f\"Current sys.path: {sys.path}\")\n",
    "\n",
    "# Import libraries\n",
    "import pandas as pd\n",
    "from bs4 import BeautifulSoup\n",
    "import requests\n",
    "\n",
    "# Project specific imports\n",
    "from off_menu.utils import extract_html\n",
    "from off_menu.utils import save_text_to_file\n",
    "from off_menu.config import episodes_list_url"
   ]
  },
  {
   "cell_type": "markdown",
   "id": "eab2eaf5",
   "metadata": {},
   "source": [
    "## Configuration and filepaths"
   ]
  },
  {
   "cell_type": "code",
   "execution_count": 3,
   "id": "01a173c7",
   "metadata": {},
   "outputs": [],
   "source": [
    "test_temp_dir = os.path.join(project_root, 'data/test_temp')"
   ]
  },
  {
   "cell_type": "markdown",
   "id": "29657052",
   "metadata": {},
   "source": [
    "## Test access and parse an episode; Access and clean first sentence; Access all sentences in an episode"
   ]
  },
  {
   "cell_type": "code",
   "execution_count": null,
   "id": "bdecee6b",
   "metadata": {},
   "outputs": [
    {
     "ename": "NameError",
     "evalue": "name 'requests' is not defined",
     "output_type": "error",
     "traceback": [
      "\u001b[31m---------------------------------------------------------------------------\u001b[39m",
      "\u001b[31mNameError\u001b[39m                                 Traceback (most recent call last)",
      "\u001b[36mCell\u001b[39m\u001b[36m \u001b[39m\u001b[32mIn[1]\u001b[39m\u001b[32m, line 4\u001b[39m\n\u001b[32m      1\u001b[39m \u001b[38;5;66;03m# Block Tests: (NO SAVING) Access and parse an episode; Access and clean first sentence; Access all sentences in an episode\u001b[39;00m\n\u001b[32m      2\u001b[39m \n\u001b[32m      3\u001b[39m \u001b[38;5;66;03m#  Access and parse an episode\u001b[39;00m\n\u001b[32m----> \u001b[39m\u001b[32m4\u001b[39m f = \u001b[43mrequests\u001b[49m.get(\n\u001b[32m      5\u001b[39m     \u001b[33m\"\u001b[39m\u001b[33mhttps://podscripts.co/podcasts/off-menu-with-ed-gamble-and-james-acaster/ep-284-meera-sodha\u001b[39m\u001b[33m\"\u001b[39m\n\u001b[32m      6\u001b[39m )\n\u001b[32m      7\u001b[39m ep_284 = BeautifulSoup(f.text, features=\u001b[33m\"\u001b[39m\u001b[33mhtml.parser\u001b[39m\u001b[33m\"\u001b[39m)\n\u001b[32m      9\u001b[39m \u001b[38;5;66;03m#  test - access and clean first sentence\u001b[39;00m\n",
      "\u001b[31mNameError\u001b[39m: name 'requests' is not defined"
     ]
    }
   ],
   "source": [
    "#  Access and parse an episode\n",
    "f = requests.get(\n",
    "    \"https://podscripts.co/podcasts/off-menu-with-ed-gamble-and-james-acaster/ep-284-meera-sodha\"\n",
    ")\n",
    "ep_284 = BeautifulSoup(f.text, features=\"html.parser\")\n",
    "\n",
    "#  test - access and clean first sentence\n",
    "first_sentence = ep_284.find(\"div\", class_ = \"single-sentence\").text\n",
    "#print(first_sentence.replace(\"  \", \"\").replace(\"\\n\", \"\").replace(\"  \", \" \"))\n",
    "\n",
    "#  test - access all sentences in an episode\n",
    "all_sentences = ep_284.find_all(\"div\", class_ = \"single-sentence\")\n",
    "print(all_sentences[0].text[:11])"
   ]
  },
  {
   "cell_type": "markdown",
   "id": "a43e1be5",
   "metadata": {},
   "source": [
    "## Extract and save a transcript html"
   ]
  },
  {
   "cell_type": "markdown",
   "id": "6092fce0",
   "metadata": {},
   "source": [
    "### Retrieve ep_and_mentions dataframe"
   ]
  },
  {
   "cell_type": "code",
   "execution_count": null,
   "id": "9e4d30a4",
   "metadata": {},
   "outputs": [
    {
     "name": "stdout",
     "output_type": "stream",
     "text": [
      "   episode_number     guest_name  \\\n",
      "0               1  Scroobius Pip   \n",
      "1               2     Grace Dent   \n",
      "2               3  Richard Osman   \n",
      "3               4     Nish Kumar   \n",
      "4               5    Aisling Bea   \n",
      "\n",
      "                                                 url  \\\n",
      "0  https://podscripts.co/podcasts/off-menu-with-e...   \n",
      "1  https://podscripts.co/podcasts/off-menu-with-e...   \n",
      "2  https://podscripts.co/podcasts/off-menu-with-e...   \n",
      "3  https://podscripts.co/podcasts/off-menu-with-e...   \n",
      "4  https://podscripts.co/podcasts/off-menu-with-e...   \n",
      "\n",
      "                     restaurants_mentioned  \n",
      "0                [Oli Baba’s, Kerb Camden]  \n",
      "1                     [Little Owl, Trullo]  \n",
      "2  [Five Guys, Cora Pearl, Berners Tavern]  \n",
      "3       [Bademiya, The Owl & The Pussycat]  \n",
      "4       [Café Gratitude, Burger & Lobster]  \n"
     ]
    }
   ],
   "source": [
    "test_temp_dir = os.path.join(project_root, 'data/test_temp')\n",
    "ep_and_mentions_filepath = os.path.join(test_temp_dir, 'ep_and_mentions.parquet')\n",
    "try:\n",
    "    ep_and_mentions_df = pd.read_parquet(ep_and_mentions_filepath)\n",
    "except FileNotFoundError:\n",
    "    print(f\"Error: The file was not found at {ep_and_mentions_filepath}. Did it save correctly?\")\n",
    "\n",
    "# Test if it's loaded correctly\n",
    "print(\"---ep_and_mentions_df head---\")\n",
    "print(ep_and_mentions_df.head())"
   ]
  },
  {
   "cell_type": "markdown",
   "id": "44f87b92",
   "metadata": {},
   "source": [
    "### Function to access and save a transcript html based on url"
   ]
  },
  {
   "cell_type": "code",
   "execution_count": null,
   "id": "de306d8a",
   "metadata": {},
   "outputs": [],
   "source": [
    "eps_to_process = ep_and_mentions_df.head(2)\n",
    "\n",
    "def save_transcript_html(eps_dataframe, directory):\n",
    "    for index, row in eps_dataframe.iterrows():\n",
    "        episode_num = row['episode_number'] \n",
    "        episode_url = row['url']\n",
    "        html_content_str = extract_html(episode_url).text\n",
    "        save_text_to_file(html_content_str, f'ep_{episode_num}.html', directory)\n",
    "    \n",
    "save_transcript_html(eps_to_process, test_temp_dir)"
   ]
  }
 ],
 "metadata": {
  "kernelspec": {
   "display_name": "Off Menu Project Venv",
   "language": "python",
   "name": "off_menu_project_venv"
  },
  "language_info": {
   "codemirror_mode": {
    "name": "ipython",
    "version": 3
   },
   "file_extension": ".py",
   "mimetype": "text/x-python",
   "name": "python",
   "nbconvert_exporter": "python",
   "pygments_lexer": "ipython3",
   "version": "3.12.9"
  }
 },
 "nbformat": 4,
 "nbformat_minor": 5
}
