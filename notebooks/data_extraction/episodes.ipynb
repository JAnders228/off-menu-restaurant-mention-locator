{
 "cells": [
  {
   "cell_type": "markdown",
   "id": "82cf1042",
   "metadata": {},
   "source": [
    "# Off menu episodes html extraction\n",
    "\n",
    "This notebook serves as a development environment for the logic to extract the HTML from the episodes section of the off menu website. The final production code is located in off_menu/data_extraction.py."
   ]
  },
  {
   "cell_type": "code",
   "execution_count": null,
   "id": "232e498c",
   "metadata": {},
   "outputs": [
    {
     "name": "stdout",
     "output_type": "stream",
     "text": [
      "Project root added to sys.path: c:\\Users\\jbara\\Data science projects (store here not desktop on onedrive)\\Off Menu project\n",
      "Current sys.path: ['c:\\\\Users\\\\jbara\\\\Data science projects (store here not desktop on onedrive)\\\\Off Menu project', 'C:\\\\Users\\\\jbara\\\\miniconda3\\\\python312.zip', 'C:\\\\Users\\\\jbara\\\\miniconda3\\\\DLLs', 'C:\\\\Users\\\\jbara\\\\miniconda3\\\\Lib', 'C:\\\\Users\\\\jbara\\\\miniconda3', 'c:\\\\Users\\\\jbara\\\\OneDrive\\\\Desktop\\\\Data_science\\\\Python projects\\\\Off Menu project\\\\.venv', '', 'c:\\\\Users\\\\jbara\\\\OneDrive\\\\Desktop\\\\Data_science\\\\Python projects\\\\Off Menu project\\\\.venv\\\\Lib\\\\site-packages', 'c:\\\\Users\\\\jbara\\\\OneDrive\\\\Desktop\\\\Data_science\\\\Python projects\\\\Off Menu project\\\\.venv\\\\Lib\\\\site-packages\\\\win32', 'c:\\\\Users\\\\jbara\\\\OneDrive\\\\Desktop\\\\Data_science\\\\Python projects\\\\Off Menu project\\\\.venv\\\\Lib\\\\site-packages\\\\win32\\\\lib', 'c:\\\\Users\\\\jbara\\\\OneDrive\\\\Desktop\\\\Data_science\\\\Python projects\\\\Off Menu project\\\\.venv\\\\Lib\\\\site-packages\\\\Pythonwin']\n"
     ]
    }
   ],
   "source": [
    "# Ensure imports can find my utils:\n",
    "\n",
    "import sys\n",
    "import os\n",
    "\n",
    "notebook_dir = os.getcwd()\n",
    "project_root = os.path.abspath(os.path.join(notebook_dir, '..', '..'))\n",
    "\n",
    "if project_root not in sys.path:\n",
    "    sys.path.insert(0, project_root)\n",
    "\n",
    "print(f\"Project root added to sys.path: {project_root}\")\n",
    "print(f\"Current sys.path: {sys.path}\")\n",
    "\n",
    "# Import libraries\n",
    "import pandas as pd\n",
    "from bs4 import BeautifulSoup\n",
    "import requests\n",
    "\n",
    "# Project specific imports\n",
    "from off_menu.config import episodes_list_url"
   ]
  },
  {
   "cell_type": "markdown",
   "id": "128220c5",
   "metadata": {},
   "source": [
    "## Extract html & save to file functions"
   ]
  },
  {
   "cell_type": "code",
   "execution_count": null,
   "id": "d570b3f3",
   "metadata": {},
   "outputs": [],
   "source": [
    "def extract_html_str(url: str) -> str: # Note could implement retry/fail logic\n",
    "    \"\"\"\n",
    "    Returns a string of the HTML content for the given URL\n",
    "    \"\"\"\n",
    "    return requests.get(url).text"
   ]
  },
  {
   "cell_type": "markdown",
   "id": "31d9c53e",
   "metadata": {},
   "source": [
    "## Save requests object function\n",
    "\n",
    "Changed in utils to save_text_to_file"
   ]
  },
  {
   "cell_type": "code",
   "execution_count": null,
   "id": "4c74a2b2",
   "metadata": {},
   "outputs": [],
   "source": [
    "def save_requests_object(html_content: str, filename: str, directory: str): \n",
    "    \"\"\"\n",
    "    Saves HTML content (as a string) to a specified file within a given directory.\n",
    "\n",
    "    Args:\n",
    "        html_content (str): The HTML content as a string (e.g., from extract_html.text).\n",
    "        filename (str): The name of the file to save, including its extension (e.g., \"episode_1.html\").\n",
    "        directory (str): The path to the directory where the file should be saved\n",
    "                         (e.g., \"data/raw\").\n",
    "    \"\"\"\n",
    "    full_filepath = os.path.join(directory, filename) # Constructs the filepath\n",
    "    os.makedirs(directory, exist_ok=True) # ensures directory exists, creates it if not\n",
    "    with open(full_filepath, 'w', encoding='utf-8') as file:\n",
    "        file.write(html_content)\n"
   ]
  },
  {
   "cell_type": "markdown",
   "id": "585464a6",
   "metadata": {},
   "source": [
    "## Testing extract and save functionality"
   ]
  },
  {
   "cell_type": "code",
   "execution_count": null,
   "id": "ed3578d3",
   "metadata": {},
   "outputs": [],
   "source": [
    "abs_test_dir = os.path.join(project_root, 'data/test_temp')\n",
    "save_requests_object(extract_html_str(episodes_list_url), 'episodes.html', abs_test_dir)"
   ]
  }
 ],
 "metadata": {
  "kernelspec": {
   "display_name": "Off Menu Project Venv",
   "language": "python",
   "name": "off_menu_project_venv"
  },
  "language_info": {
   "codemirror_mode": {
    "name": "ipython",
    "version": 3
   },
   "file_extension": ".py",
   "mimetype": "text/x-python",
   "name": "python",
   "nbconvert_exporter": "python",
   "pygments_lexer": "ipython3",
   "version": "3.12.9"
  }
 },
 "nbformat": 4,
 "nbformat_minor": 5
}
