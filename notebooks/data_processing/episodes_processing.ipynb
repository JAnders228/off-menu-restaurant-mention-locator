{
 "cells": [
  {
   "cell_type": "markdown",
   "id": "a7b9928a",
   "metadata": {},
   "source": [
    "# Off menu episodes processing\n",
    "\n",
    "This notebook serves as a development environment for the logic to process the episodes list HTML from the episodes section of the off menu website into useable episode metadata. The final production code is located in off_menu/data_processing.py."
   ]
  },
  {
   "cell_type": "code",
   "execution_count": null,
   "id": "41f951a1",
   "metadata": {},
   "outputs": [],
   "source": [
    "# Ensure imports can find my utils:\n",
    "\n",
    "import sys\n",
    "import os\n",
    "\n",
    "notebook_dir = os.getcwd()\n",
    "project_root = os.path.abspath(os.path.join(notebook_dir, '..', '..'))\n",
    "\n",
    "if project_root not in sys.path:\n",
    "    sys.path.insert(0, project_root)\n",
    "\n",
    "print(f\"Project root added to sys.path: {project_root}\")\n",
    "print(f\"Current sys.path: {sys.path}\")\n",
    "\n",
    "# Import libraries\n",
    "import pandas as pd\n",
    "from bs4 import BeautifulSoup\n",
    "import requests\n",
    "\n",
    "# Project specific imports\n",
    "from off_menu.config import episodes_list_url\n",
    "from off_menu.config import transcript_base_url"
   ]
  },
  {
   "cell_type": "markdown",
   "id": "bc01e302",
   "metadata": {},
   "source": [
    "## Configuration and filepaths"
   ]
  },
  {
   "cell_type": "code",
   "execution_count": null,
   "id": "d7149d8f",
   "metadata": {},
   "outputs": [],
   "source": [
    "episodes_html_filepath = os.path.join(project_root, 'data', 'test_temp', 'episodes.html')\n",
    "test_filepath = episodes_html_filepath\n",
    "test_temp_dir = os.path.join(project_root, 'data/test_temp')\n",
    "test_processed_eps_filepath = os.path.join(test_temp_dir, 'episodes_metadata_test.parquet')\n",
    "test_meta_and_mentions_filepath = os.path.join(test_temp_dir, 'ep_meta_and_mentions.parquet')"
   ]
  },
  {
   "cell_type": "markdown",
   "id": "bd5045d9",
   "metadata": {},
   "source": [
    "## Helper function to check if text contains numbers (to rule out special episodes, with no numbers)"
   ]
  },
  {
   "cell_type": "code",
   "execution_count": null,
   "id": "49b6bfc2",
   "metadata": {},
   "outputs": [],
   "source": [
    "def _num_check(text):\n",
    "    \"\"\"This function checks is a string contains digits.\n",
    "\n",
    "    This string checks if a string contains digits, this can be used to determine if an episode has a valid number\n",
    "    or not (e.g. if it's a special episode).\n",
    "\n",
    "    Args:\n",
    "        text (str): The text you want to check\n",
    "\n",
    "    Returns:\n",
    "        bool:\n",
    "            - False if the argument is not text, or if it doesn't meet criteria below\n",
    "            - True if the arg is text and the second character is a digit, or if the first char is '-' and second digit\n",
    "    \"\"\"\n",
    "    if not text:\n",
    "        return False\n",
    "    if text[0] == \"-\":\n",
    "        return text[1:].isdigit()\n",
    "    return text.isdigit()\n",
    "\n"
   ]
  },
  {
   "cell_type": "markdown",
   "id": "4f830f07",
   "metadata": {},
   "source": [
    "## Helper function to identify the index after the a number ends in text\n",
    "Some eps don't have the colon splitting the title and number, this can be used to split their name and number (rather than colon)"
   ]
  },
  {
   "cell_type": "code",
   "execution_count": null,
   "id": "8dfd52af",
   "metadata": {},
   "outputs": [],
   "source": [
    "def _find_num_end(tag):\n",
    "    \"\"\"\n",
    "    This function takes a bs4.Tag (div) element, converts to text, and if it contains a digit, and another element after the digit that is a non digit, it returns this index.\n",
    "\n",
    "    Args:\n",
    "        div (bs4.Tag): The text you wish to scan for the index where a number ends\n",
    "\n",
    "    Returns:\n",
    "        Optional: returns the index, otherwise None\n",
    "    \"\"\"\n",
    "    text = tag.text\n",
    "    counter = 0\n",
    "    while counter < len(text) - 1:\n",
    "        if text[counter].isdigit() and not text[counter + 1].isdigit():\n",
    "            return counter + 1\n",
    "        else:\n",
    "            counter += 1\n",
    "            continue"
   ]
  },
  {
   "cell_type": "markdown",
   "id": "98a173f8",
   "metadata": {},
   "source": [
    "## Helper function to split episode bs4.Tag elements into their name and numbers\n",
    "Works if they're in standard form, if not, none returned"
   ]
  },
  {
   "cell_type": "code",
   "execution_count": null,
   "id": "74bc4541",
   "metadata": {},
   "outputs": [],
   "source": [
    "def _name_num_split(episode):\n",
    "    \"\"\"\n",
    "    This function takes an episode div element, and returns a name and number for episodes in standard format.\n",
    "\n",
    "    The standard format is \"ep number\". The find_num_end function is used to find an index where a number ends.\n",
    "    It then splits this which should result in a number if the episode is in standard form, if it isn't, None is returned.\n",
    "\n",
    "    Args:\n",
    "        episode (bs4.Tag element): The episode HTML element (div)\n",
    "\n",
    "    Returns:\n",
    "        Optional: returns the name and number (str, str) or \"not in standard form\" (str)\n",
    "    \"\"\"\n",
    "    split = []\n",
    "    text = episode.text\n",
    "    break_point = _find_num_end(episode)\n",
    "    split.append(text[:break_point])\n",
    "    split.append(text[break_point:])\n",
    "    #  The following splits the name before the number (ep number) by space, and then selects the number\n",
    "    #  It only works for regular episodes\n",
    "    number = split[0].split()[1]\n",
    "    # Deal with \"best of\" episodes or episodes without numbers (not included)\n",
    "    if _num_check(number) == False:\n",
    "        return \"not in standard form\"\n",
    "    # Format name - just the slice beyond the break unless there are \"(\"\n",
    "    if \"(\" in split[1]:\n",
    "        name = split[1].split(\"(\")[0].strip(\":\").strip()\n",
    "        return (name, number)\n",
    "    else:\n",
    "        name = split[1].strip(\":\").strip()\n",
    "        return (name, number)"
   ]
  },
  {
   "cell_type": "markdown",
   "id": "2da9380a",
   "metadata": {},
   "source": [
    "## Function to create numbers / names dict"
   ]
  },
  {
   "cell_type": "code",
   "execution_count": null,
   "id": "9da68051",
   "metadata": {},
   "outputs": [],
   "source": [
    "def create_epnumber_epname_dict(html_string: str):\n",
    "    episodes_site_html = BeautifulSoup(html_string, features=\"html.parser\")\n",
    "    episode_elements = episodes_site_html.find_all(\"div\", class_=\"image-slide-title\")\n",
    "    numbers_and_names = {}\n",
    "    # Loop through the items\n",
    "    for item in episode_elements:\n",
    "        not_included = []\n",
    "        counter = 0\n",
    "        name = _name_num_split(item)[0]\n",
    "        number = _name_num_split(item)[1]\n",
    "        #  Deal with non standard episodes\n",
    "        if _num_check(number) == False:\n",
    "            not_included.append(counter)\n",
    "            counter += 1\n",
    "            continue\n",
    "        else:\n",
    "            numbers_and_names[int(number)] = name\n",
    "    return numbers_and_names"
   ]
  },
  {
   "cell_type": "markdown",
   "id": "3d14e1f8",
   "metadata": {},
   "source": [
    "## Testing function to create numbers / names dict"
   ]
  },
  {
   "cell_type": "code",
   "execution_count": null,
   "id": "87492b77",
   "metadata": {},
   "outputs": [],
   "source": [
    "test_filepath = os.path.join(project_root, 'data/test_temp/episodes.html')\n",
    "try:\n",
    "    with open(test_filepath, 'r', encoding='utf-8') as html:\n",
    "        html_text = html.read()\n",
    "    numbers_names_dict = create_epnumber_epname_dict(html_text)\n",
    "    print(numbers_names_dict[1])\n",
    "except FileNotFoundError:\n",
    "    print(f\"Error: The file was not found at {test_filepath}. Did it save correctly?\")"
   ]
  },
  {
   "cell_type": "markdown",
   "id": "d84d5d3a",
   "metadata": {},
   "source": [
    "## Creating a dataframe of the numbers / names dict"
   ]
  },
  {
   "cell_type": "markdown",
   "id": "f764cac4",
   "metadata": {},
   "source": [
    "### Create dict using test data"
   ]
  },
  {
   "cell_type": "code",
   "execution_count": null,
   "id": "8ed08747",
   "metadata": {},
   "outputs": [],
   "source": [
    "try:\n",
    "    with open(test_filepath, 'r', encoding='utf-8') as html:\n",
    "        html_text = html.read()\n",
    "    numbers_names_dict = create_epnumber_epname_dict(html_text)\n",
    "    print(f\"First episode name: {numbers_names_dict[1]}\")\n",
    "except FileNotFoundError:\n",
    "    print(f\"Error: The file was not found at {test_filepath}. Did it save correctly?\")"
   ]
  },
  {
   "cell_type": "markdown",
   "id": "08e7d33c",
   "metadata": {},
   "source": [
    "### Create the dataframe, with dict keys as index, ep names as column"
   ]
  },
  {
   "cell_type": "code",
   "execution_count": null,
   "id": "ef24f133",
   "metadata": {},
   "outputs": [],
   "source": [
    "df_episodes_metadata = pd.DataFrame.from_dict(\n",
    "        numbers_names_dict,\n",
    "        orient='index', # dict keys become \"index\" col in dataframe\n",
    "        columns=['guest_name'] # means dict values\n",
    "    )\n",
    "\n",
    "# Rename index \n",
    "df_episodes_metadata.index.name = 'episode_number'\n",
    "\n",
    "# Reset the index to make 'episode_number' a regular column (instead of the index col)\n",
    "df_episodes_metadata.reset_index(inplace=True)\n",
    "\n",
    "print(\"DataFrame created successfully. Here's its head:\")\n",
    "print(df_episodes_metadata.head())\n",
    "\n",
    "print(\"\\nDataFrame information:\")\n",
    "df_episodes_metadata.info()"
   ]
  },
  {
   "cell_type": "markdown",
   "id": "fb5685a1",
   "metadata": {},
   "source": [
    "### Saving the dataframe"
   ]
  },
  {
   "cell_type": "code",
   "execution_count": null,
   "id": "3e9c9320",
   "metadata": {},
   "outputs": [],
   "source": [
    "df_episodes_metadata.to_parquet(test_processed_eps_filepath, index=False)"
   ]
  },
  {
   "cell_type": "markdown",
   "id": "0a425792",
   "metadata": {},
   "source": [
    "###  Function to create URL (using data frame) and merge with names and numbers"
   ]
  },
  {
   "cell_type": "code",
   "execution_count": null,
   "id": "18dfa908",
   "metadata": {},
   "outputs": [],
   "source": [
    "# Create test data\n",
    "data = {\n",
    "    'episode_number': [1, 2, 294],\n",
    "    'guest_name': ['James Acaster', 'Ed Gamble', 'Carey Mulligan']\n",
    "}\n",
    "df = pd.DataFrame(data)\n",
    "\n",
    "# Function\n",
    "def create_url_from_row(row):\n",
    "    num = row['episode_number']\n",
    "    first_name = row['guest_name'].split()[0].lower()\n",
    "    if len(row['guest_name'].split()) > 1:\n",
    "        second_name = row['guest_name'].split()[1].lower()\n",
    "    else:\n",
    "        second_name = \"\"\n",
    "    url = f\"{transcript_base_url}ep-{num}-{first_name}-{second_name}\"\n",
    "    return url\n",
    "\n",
    "# Test function\n",
    "df['url'] = df.apply(create_url_from_row, axis=1)\n",
    "\n",
    "print(df.info())"
   ]
  },
  {
   "cell_type": "markdown",
   "id": "47794745",
   "metadata": {},
   "source": [
    "### Adding URL column to existing metadata"
   ]
  },
  {
   "cell_type": "code",
   "execution_count": null,
   "id": "8120335a",
   "metadata": {},
   "outputs": [],
   "source": [
    "df_episodes_metadata['url'] = df_episodes_metadata.apply(create_url_from_row, axis=1)\n",
    "\n",
    "print(df_episodes_metadata.head())"
   ]
  },
  {
   "cell_type": "markdown",
   "id": "84627e83",
   "metadata": {},
   "source": [
    "## Adding restaurant mentions to existing dataframe"
   ]
  },
  {
   "cell_type": "markdown",
   "id": "b754109e",
   "metadata": {},
   "source": [
    "### Retrieving res mentions dataframe from test where it was saved"
   ]
  },
  {
   "cell_type": "code",
   "execution_count": null,
   "id": "78d82030",
   "metadata": {},
   "outputs": [],
   "source": [
    "test_temp_dir = os.path.join(project_root, 'data/test_temp')\n",
    "restaurant_mentions_test_filepath = os.path.join(test_temp_dir, 'restaurant_mentions_test.parquet')\n",
    "try:\n",
    "    restaurant_mentions_df = pd.read_parquet(restaurant_mentions_test_filepath)\n",
    "except FileNotFoundError:\n",
    "    print(f\"Error: The file was not found at {restaurant_mentions_test_filepath}. Did it save correctly?\")\n",
    "\n",
    "print(restaurant_mentions_df.head())"
   ]
  },
  {
   "cell_type": "markdown",
   "id": "bef04369",
   "metadata": {},
   "source": [
    "### Merging with existing numbers, names, urls dataframe"
   ]
  },
  {
   "cell_type": "code",
   "execution_count": null,
   "id": "c718b69d",
   "metadata": {},
   "outputs": [],
   "source": [
    "merged_df = pd.merge(df_episodes_metadata, restaurant_mentions_df, on='guest_name', how='left')\n",
    "print(merged_df.head())"
   ]
  },
  {
   "cell_type": "markdown",
   "id": "6d76a7e6",
   "metadata": {},
   "source": [
    "### Aggregating rows so we have one row per episode, with a list of restaurant mentions"
   ]
  },
  {
   "cell_type": "code",
   "execution_count": null,
   "id": "d3ed5500",
   "metadata": {},
   "outputs": [],
   "source": [
    "ep_meta_and_mentions_df = merged_df.groupby(['episode_number', 'guest_name', 'url'], as_index=False).agg(\n",
    "    restaurants_mentioned=('restaurant_name', lambda x: list(x.dropna()))\n",
    ").rename(columns={'restaurant_name': 'restaurants_mentioned'})\n",
    "\n",
    "print(\"---Final (ep_meta_and_mentions) dataframe head---\")\n",
    "print(ep_meta_and_mentions_df.head())"
   ]
  },
  {
   "cell_type": "markdown",
   "id": "3a975c40",
   "metadata": {},
   "source": [
    "### Saving the full dataframe, and the head for testing"
   ]
  },
  {
   "cell_type": "code",
   "execution_count": null,
   "id": "950ce491",
   "metadata": {},
   "outputs": [],
   "source": [
    "# Saving the dataframe\n",
    "\n",
    "ep_meta_and_mentions_df.to_parquet(test_meta_and_mentions_filepath, index=False)\n",
    "\n",
    "# Saving just the head for testing purposes\n",
    "head_filepath = os.path.join(test_temp_dir, 'ep_meta_and_mentions_head.parquet')\n",
    "ep_meta_and_mentions_head = ep_meta_and_mentions_df.head()\n",
    "ep_meta_and_mentions_head.to_parquet(head_filepath, index=False)"
   ]
  }
 ],
 "metadata": {
  "kernelspec": {
   "display_name": "Off Menu Project Venv",
   "language": "python",
   "name": "off_menu_project_venv"
  },
  "language_info": {
   "codemirror_mode": {
    "name": "ipython",
    "version": 3
   },
   "file_extension": ".py",
   "mimetype": "text/x-python",
   "name": "python",
   "nbconvert_exporter": "python",
   "pygments_lexer": "ipython3",
   "version": "3.12.9"
  }
 },
 "nbformat": 4,
 "nbformat_minor": 5
}
