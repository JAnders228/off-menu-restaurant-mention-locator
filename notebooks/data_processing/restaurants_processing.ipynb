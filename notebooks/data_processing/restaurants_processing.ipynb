{
 "cells": [
  {
   "cell_type": "markdown",
   "id": "dcf8b30b",
   "metadata": {},
   "source": [
    "# Off menu restaurants processing\n",
    "\n",
    "This notebook serves as a development environment for the logic to process the restaurants and mentions html and produce a dataframe ready to integrate with other episode metadata. The final production code is located in off_menu/data_processing.py."
   ]
  },
  {
   "cell_type": "code",
   "execution_count": null,
   "id": "a66a031d",
   "metadata": {},
   "outputs": [
    {
     "name": "stdout",
     "output_type": "stream",
     "text": [
      "Project root added to sys.path: c:\\Users\\jbara\\Data science projects (store here not desktop on onedrive)\\Off Menu project\n",
      "Current sys.path: ['c:\\\\Users\\\\jbara\\\\Data science projects (store here not desktop on onedrive)\\\\Off Menu project', 'C:\\\\Users\\\\jbara\\\\miniconda3\\\\python312.zip', 'C:\\\\Users\\\\jbara\\\\miniconda3\\\\DLLs', 'C:\\\\Users\\\\jbara\\\\miniconda3\\\\Lib', 'C:\\\\Users\\\\jbara\\\\miniconda3', 'c:\\\\Users\\\\jbara\\\\OneDrive\\\\Desktop\\\\Data_science\\\\Python projects\\\\Off Menu project\\\\.venv', '', 'c:\\\\Users\\\\jbara\\\\OneDrive\\\\Desktop\\\\Data_science\\\\Python projects\\\\Off Menu project\\\\.venv\\\\Lib\\\\site-packages', 'c:\\\\Users\\\\jbara\\\\OneDrive\\\\Desktop\\\\Data_science\\\\Python projects\\\\Off Menu project\\\\.venv\\\\Lib\\\\site-packages\\\\win32', 'c:\\\\Users\\\\jbara\\\\OneDrive\\\\Desktop\\\\Data_science\\\\Python projects\\\\Off Menu project\\\\.venv\\\\Lib\\\\site-packages\\\\win32\\\\lib', 'c:\\\\Users\\\\jbara\\\\OneDrive\\\\Desktop\\\\Data_science\\\\Python projects\\\\Off Menu project\\\\.venv\\\\Lib\\\\site-packages\\\\Pythonwin']\n"
     ]
    }
   ],
   "source": [
    "# Ensure imports can find my utils:\n",
    "\n",
    "import sys\n",
    "import os\n",
    "\n",
    "notebook_dir = os.getcwd()\n",
    "project_root = os.path.abspath(os.path.join(notebook_dir, '..', '..'))\n",
    "\n",
    "if project_root not in sys.path:\n",
    "    sys.path.insert(0, project_root)\n",
    "\n",
    "print(f\"Project root added to sys.path: {project_root}\")\n",
    "print(f\"Current sys.path: {sys.path}\")\n",
    "\n",
    "# Import libraries\n",
    "import pandas as pd\n",
    "from bs4 import BeautifulSoup\n",
    "import requests\n",
    "\n",
    "# Project specific imports\n",
    "from off_menu.config import episodes_list_url"
   ]
  },
  {
   "cell_type": "markdown",
   "id": "83dd1412",
   "metadata": {},
   "source": [
    "## Process restaurants html into a dict\n",
    "\n",
    "This section loads the HTML of the \"restaurants mentioned\" section of the off menu website, and processes this into a dict with restaurants as keys and a list of guests who mention them as values."
   ]
  },
  {
   "cell_type": "code",
   "execution_count": 6,
   "id": "1d82bd86",
   "metadata": {},
   "outputs": [
    {
     "name": "stdout",
     "output_type": "stream",
     "text": [
      "[('Red Chilli', ['Sophie Duker']), ('Barbacoa El Primo', ['Finn Wolfhard']), ('La Taberna Del Gourmet', ['Rhod Gilbert']), ('Ron Gastrobar', ['James Acaster']), ('Disneyland', ['Saoirse-Monica Jackson']), ('Frites Atelier', ['Joe Lycett']), ('Louisiana Bistreaux', ['Killer Mike']), ('Spondivits', ['Killer Mike']), ('Old Lady Gang', ['Killer Mike']), ('Mary Mac’s', ['Killer Mike'])]\n"
     ]
    }
   ],
   "source": [
    "# (helper) Function to produce restaurant name and mentions from the text of the li element\n",
    "def clean_res(res_element):\n",
    "    text = res_element.text\n",
    "    csplit = text.split(\"(\")\n",
    "    res_name = csplit[0].strip()\n",
    "    res_mentions = csplit[1].strip().strip(\")\").split(\",\")\n",
    "    return (res_name, res_mentions)\n",
    "\n",
    "# Function to produce restaurants_by_res_name_dict\n",
    "def create_restaurants_by_res_name_dict(html_string: str):\n",
    "    res_site_html = BeautifulSoup(html_string, features=\"html.parser\")\n",
    "    res_elements = res_site_html.find_all(\"li\")\n",
    "    restaurants_by_res_name = {}\n",
    "    for item in res_elements:\n",
    "        if not \"(\" in item.text:\n",
    "            continue\n",
    "        else:\n",
    "            restaurants_by_res_name[clean_res(item)[0]] = clean_res(item)[1]\n",
    "    return restaurants_by_res_name\n",
    "\n",
    "# Creating restaurants_by_res_name dict from restaurants_site_html\n",
    "\n",
    "test_filepath = os.path.join(project_root, 'data/test_temp/restaurants_site.html')\n",
    "try:\n",
    "    with open(test_filepath, 'r', encoding='utf-8') as html:\n",
    "        html_text = html.read()\n",
    "    restaurants_by_res_name_dict = create_restaurants_by_res_name_dict(html_text)\n",
    "except FileNotFoundError:\n",
    "    print(f\"Error: The file was not found at {test_filepath}. Did it save correctly?\")\n",
    "\n",
    "print(list(restaurants_by_res_name_dict.items())[:10\n",
    "    ])"
   ]
  },
  {
   "cell_type": "markdown",
   "id": "8b264074",
   "metadata": {},
   "source": [
    "## Convert the dict into a dataframe\n",
    "\n",
    "Converting the dict into an exploded dataframe with one row for each mention/restaurant, so that it can be combined with the epsisode metadata easily."
   ]
  },
  {
   "cell_type": "code",
   "execution_count": 7,
   "id": "e10bec28",
   "metadata": {},
   "outputs": [
    {
     "name": "stdout",
     "output_type": "stream",
     "text": [
      "Corrected mentions DataFrame (first 5 rows):\n",
      "           restaurant_name          guests_mentioned\n",
      "0              Red Chilli            [Sophie Duker]\n",
      "1       Barbacoa El Primo           [Finn Wolfhard]\n",
      "2  La Taberna Del Gourmet            [Rhod Gilbert]\n",
      "3           Ron Gastrobar           [James Acaster]\n",
      "4              Disneyland  [Saoirse-Monica Jackson]\n",
      "          restaurant_name              guest_name\n",
      "0              Red Chilli            Sophie Duker\n",
      "1       Barbacoa El Primo           Finn Wolfhard\n",
      "2  La Taberna Del Gourmet            Rhod Gilbert\n",
      "3           Ron Gastrobar           James Acaster\n",
      "4              Disneyland  Saoirse-Monica Jackson\n"
     ]
    }
   ],
   "source": [
    "# 1. Converting into a dataframe\n",
    "\n",
    "mentions_raw_data = list(restaurants_by_res_name_dict.items()) # List is easier for Pandas to process\n",
    "\n",
    "# Pandas understands each tuple is a row, and we can assign the column names directly.\n",
    "mentions_raw_df = pd.DataFrame(\n",
    "    mentions_raw_data,\n",
    "    columns=['restaurant_name', 'guests_mentioned'] \n",
    ") \n",
    "print(\"Corrected mentions DataFrame (first 5 rows):\\n\", mentions_raw_df.head())\n",
    "\n",
    "# 2. # Explode the DataFrame to create a separate row for each restaurant mentioned in an episode.\n",
    "restaurant_guest_df = mentions_raw_df.explode('guests_mentioned')\n",
    "\n",
    "# 3. Rename 'guests_mentioned' to 'guest_name' for accuracy and to match the column in episodes_df.\n",
    "restaurant_guest_df = restaurant_guest_df.rename(columns={'guests_mentioned': 'guest_name'})\n",
    "print(restaurant_guest_df.head())\n",
    "\n",
    "# 4. Save dataframe so I can combine with episodes data\n",
    "test_temp_dir = os.path.join(project_root, 'data/test_temp')\n",
    "test_processed_filepath = os.path.join(test_temp_dir, 'restaurant_mentions_test.parquet')\n",
    "restaurant_guest_df.to_parquet(test_processed_filepath, index=False)"
   ]
  }
 ],
 "metadata": {
  "kernelspec": {
   "display_name": "Off Menu Project Venv",
   "language": "python",
   "name": "off_menu_project_venv"
  },
  "language_info": {
   "codemirror_mode": {
    "name": "ipython",
    "version": 3
   },
   "file_extension": ".py",
   "mimetype": "text/x-python",
   "name": "python",
   "nbconvert_exporter": "python",
   "pygments_lexer": "ipython3",
   "version": "3.12.9"
  }
 },
 "nbformat": 4,
 "nbformat_minor": 5
}
