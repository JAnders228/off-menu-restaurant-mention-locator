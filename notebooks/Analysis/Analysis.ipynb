{
 "cells": [
  {
   "cell_type": "markdown",
   "id": "3c2abdf0",
   "metadata": {},
   "source": [
    "## Off menu easy wins analysis\n",
    "\n",
    "This notebook serves as a development environment for the logic to analyse the results of the first sweep. The first sweep consists of 'easy wins', that is partial matches with the full name of the reataurant with scores over 90. The final production code is located in off_menu/data_processing.py."
   ]
  },
  {
   "cell_type": "code",
   "execution_count": null,
   "id": "9b43df2b",
   "metadata": {},
   "outputs": [
    {
     "name": "stdout",
     "output_type": "stream",
     "text": [
      "Project root added to sys.path: c:\\Users\\jbara\\Data science projects (store here not desktop on onedrive)\\Off Menu project\n",
      "Current sys.path: ['c:\\\\Users\\\\jbara\\\\Data science projects (store here not desktop on onedrive)\\\\Off Menu project', 'C:\\\\Users\\\\jbara\\\\miniconda3\\\\python312.zip', 'C:\\\\Users\\\\jbara\\\\miniconda3\\\\DLLs', 'C:\\\\Users\\\\jbara\\\\miniconda3\\\\Lib', 'C:\\\\Users\\\\jbara\\\\miniconda3', 'c:\\\\Users\\\\jbara\\\\OneDrive\\\\Desktop\\\\Data_science\\\\Python projects\\\\Off Menu project\\\\.venv', '', 'c:\\\\Users\\\\jbara\\\\OneDrive\\\\Desktop\\\\Data_science\\\\Python projects\\\\Off Menu project\\\\.venv\\\\Lib\\\\site-packages', 'c:\\\\Users\\\\jbara\\\\OneDrive\\\\Desktop\\\\Data_science\\\\Python projects\\\\Off Menu project\\\\.venv\\\\Lib\\\\site-packages\\\\win32', 'c:\\\\Users\\\\jbara\\\\OneDrive\\\\Desktop\\\\Data_science\\\\Python projects\\\\Off Menu project\\\\.venv\\\\Lib\\\\site-packages\\\\win32\\\\lib', 'c:\\\\Users\\\\jbara\\\\OneDrive\\\\Desktop\\\\Data_science\\\\Python projects\\\\Off Menu project\\\\.venv\\\\Lib\\\\site-packages\\\\Pythonwin']\n"
     ]
    }
   ],
   "source": [
    "import sys\n",
    "import os\n",
    "\n",
    "#  Ensure imports can find my utils:\n",
    "\n",
    "# Get the current working directory of the notebook so we can locate the root relative to the notebook\n",
    "notebook_dir = os.getcwd()\n",
    "project_root = os.path.abspath(os.path.join(notebook_dir, '..'))\n",
    "\n",
    "# Insert the project root to the beginning of sys.path\n",
    "if project_root not in sys.path:\n",
    "    sys.path.insert(0, project_root)\n",
    "\n",
    "print(f\"Project root added to sys.path: {project_root}\")\n",
    "print(f\"Current sys.path: {sys.path}\")\n",
    "\n",
    "# Import pandas (data storage), requests (accessing links), Beautiful Soup (parsing HTML), re (RegEx), List (typehints)\n",
    "import pandas as pd\n",
    "from bs4 import BeautifulSoup\n",
    "import requests \n",
    "import re \n",
    "from typing import List, Dict\n",
    "\n",
    "# Import libraries for fuzzy matching\n",
    "from fuzzywuzzy import (process,\n",
    "                        fuzz\n",
    ")\n",
    "\n",
    "from off_menu.utils import try_read_parquet"
   ]
  },
  {
   "cell_type": "markdown",
   "id": "a7560419",
   "metadata": {},
   "source": [
    "## Examine the number of matches in the easy wins sweep and, if no match, whether this was due to transcript missing"
   ]
  },
  {
   "cell_type": "markdown",
   "id": "23b96ffd",
   "metadata": {},
   "source": [
    "### Load the easy wins dataframe and examine head"
   ]
  },
  {
   "cell_type": "code",
   "execution_count": 24,
   "id": "babd8729",
   "metadata": {},
   "outputs": [
    {
     "name": "stdout",
     "output_type": "stream",
     "text": [
      "   Episode ID             Restaurant  \\\n",
      "0           1  oli babas kerb camden   \n",
      "1           2             little owl   \n",
      "2           2                 trullo   \n",
      "3           3              five guys   \n",
      "4           3             cora pearl   \n",
      "\n",
      "                                        Mention text  Match Score  \\\n",
      "0                                               None            0   \n",
      "1  it would be, the side dish would be from littl...          100   \n",
      "2  and it's the beef shin ragu with probably it's...          100   \n",
      "3  what if every single thing that i'm going to m...          100   \n",
      "4  this was a difficult question for me until lit...          100   \n",
      "\n",
      "       Match Type Timestamp                                  transcript_sample  \n",
      "0  No match found      None  starting point is 00:00:00 hello, listeners of...  \n",
      "1   full, over 90  00:34:52  starting point is 00:00:00 hello, listeners of...  \n",
      "2   full, over 90  00:20:26  starting point is 00:00:00 hello, listeners of...  \n",
      "3   full, over 90  00:03:42  starting point is 00:00:00 hello, listeners of...  \n",
      "4   full, over 90  00:13:00  starting point is 00:00:00 hello, listeners of...  \n"
     ]
    }
   ],
   "source": [
    "easy_wins_path = os.path.join(project_root, 'data', 'processed', 'easy_win_mention_search_df.parquet')\n",
    "easy_wins_scan_df = try_read_parquet(easy_wins_path)\n",
    "\n",
    "print(easy_wins_scan_df.head(5))"
   ]
  },
  {
   "cell_type": "markdown",
   "id": "fa4dd511",
   "metadata": {},
   "source": [
    "### Explore the number of successful matches and total matches"
   ]
  },
  {
   "cell_type": "code",
   "execution_count": 25,
   "id": "fb8597e1",
   "metadata": {},
   "outputs": [
    {
     "name": "stdout",
     "output_type": "stream",
     "text": [
      "Breakdown of Match Types:\n",
      "Match Type\n",
      "full, over 90     275\n",
      "No match found    212\n",
      "Name: count, dtype: int64\n",
      "\n",
      "Number of 'No match found' entries: 212\n"
     ]
    }
   ],
   "source": [
    "match_type_counts = easy_wins_scan_df['Match Type'].value_counts()\n",
    "\n",
    "print(\"Breakdown of Match Types:\")\n",
    "print(match_type_counts)\n",
    "\n",
    "no_match_count = match_type_counts.get('No match found', 0)\n",
    "print(f\"\\nNumber of 'No match found' entries: {no_match_count}\")"
   ]
  },
  {
   "cell_type": "markdown",
   "id": "969d9b0f",
   "metadata": {},
   "source": [
    "### Identify how many 'No match found's are due to missing transcripts"
   ]
  },
  {
   "cell_type": "code",
   "execution_count": null,
   "id": "f9d158ba",
   "metadata": {},
   "outputs": [
    {
     "name": "stdout",
     "output_type": "stream",
     "text": [
      "\n",
      "Breakdown of Match Types by Transcript Availability:\n",
      "transcript_available  False  True  Total\n",
      "Match Type                              \n",
      "No match found           93   119    212\n",
      "full, over 90             0   275    275\n",
      "Total                    93   394    487\n"
     ]
    }
   ],
   "source": [
    "# Update the logic to be more robust\n",
    "easy_wins_scan_df['transcript_available'] = (\n",
    "    easy_wins_scan_df['transcript_sample'].notna() &  # Check that it's not None\n",
    "    (easy_wins_scan_df['transcript_sample'] != '') &  # Check that it's not an empty string\n",
    "    (easy_wins_scan_df['transcript_sample'] != 'No Transcript Found') # Check it's not 'No transcript found'\n",
    ")\n",
    "\n",
    "# Create a cross-tabulation of 'Match Type' and 'transcript_available'\n",
    "match_breakdown_by_transcript = pd.crosstab(\n",
    "    easy_wins_scan_df['Match Type'],\n",
    "    easy_wins_scan_df['transcript_available'],\n",
    "    margins=True, \n",
    "    margins_name=\"Total\"\n",
    ")\n",
    "\n",
    "print(\"\\nBreakdown of Match Types by Transcript Availability:\")\n",
    "print(match_breakdown_by_transcript)\n",
    "\n",
    "no_match_found_no_transcript_count = match_breakdown_by_transcript.loc[\n",
    "    'No match found', \n",
    "    False\n",
    "]"
   ]
  }
 ],
 "metadata": {
  "kernelspec": {
   "display_name": "Off Menu Project Venv",
   "language": "python",
   "name": "off_menu_project_venv"
  },
  "language_info": {
   "codemirror_mode": {
    "name": "ipython",
    "version": 3
   },
   "file_extension": ".py",
   "mimetype": "text/x-python",
   "name": "python",
   "nbconvert_exporter": "python",
   "pygments_lexer": "ipython3",
   "version": "3.12.9"
  }
 },
 "nbformat": 4,
 "nbformat_minor": 5
}
